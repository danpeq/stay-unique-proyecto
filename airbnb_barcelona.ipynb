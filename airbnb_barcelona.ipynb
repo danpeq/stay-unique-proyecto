{
 "cells": [
  {
   "cell_type": "markdown",
   "metadata": {},
   "source": [
    "1. Importación de las librerias y los datasets"
   ]
  },
  {
   "cell_type": "code",
   "execution_count": 3,
   "metadata": {},
   "outputs": [],
   "source": [
    "import pandas as pd\n",
    "import pandas as pd\n",
    "from matplotlib import pyplot as plt\n",
    "import seaborn as sns\n",
    "from scipy import stats as st\n",
    "import numpy as np\n",
    "import scipy.stats as stats\n",
    "import plotly.express as px\n",
    "from plotly import graph_objects as go\n",
    "from scipy.stats import levene, mannwhitneyu, shapiro"
   ]
  },
  {
   "cell_type": "code",
   "execution_count": 4,
   "metadata": {},
   "outputs": [],
   "source": [
    "booking = pd.read_csv(r'Booking.csv')\n",
    "property = pd.read_csv(r'Property.csv')"
   ]
  },
  {
   "cell_type": "markdown",
   "metadata": {},
   "source": [
    "2. Comenzamos con el proceso de ETL y revisión de los datos."
   ]
  },
  {
   "cell_type": "code",
   "execution_count": 5,
   "metadata": {},
   "outputs": [
    {
     "data": {
      "text/html": [
       "<div>\n",
       "<style scoped>\n",
       "    .dataframe tbody tr th:only-of-type {\n",
       "        vertical-align: middle;\n",
       "    }\n",
       "\n",
       "    .dataframe tbody tr th {\n",
       "        vertical-align: top;\n",
       "    }\n",
       "\n",
       "    .dataframe thead th {\n",
       "        text-align: right;\n",
       "    }\n",
       "</style>\n",
       "<table border=\"1\" class=\"dataframe\">\n",
       "  <thead>\n",
       "    <tr style=\"text-align: right;\">\n",
       "      <th></th>\n",
       "      <th>PropertyId</th>\n",
       "      <th>Property_BookingId</th>\n",
       "      <th>BookingCreatedDate</th>\n",
       "      <th>ArrivalDate</th>\n",
       "      <th>DepartureDate</th>\n",
       "      <th>Adults</th>\n",
       "      <th>Children</th>\n",
       "      <th>Infants</th>\n",
       "      <th>Persons</th>\n",
       "      <th>NumNights</th>\n",
       "      <th>Channel</th>\n",
       "      <th>RoomRate</th>\n",
       "      <th>CleaningFee</th>\n",
       "      <th>Revenue</th>\n",
       "      <th>ADR</th>\n",
       "      <th>TouristTax</th>\n",
       "      <th>TotalPaid</th>\n",
       "    </tr>\n",
       "  </thead>\n",
       "  <tbody>\n",
       "    <tr>\n",
       "      <th>0</th>\n",
       "      <td>2883</td>\n",
       "      <td>48819</td>\n",
       "      <td>12/22/2011 18:18</td>\n",
       "      <td>12/28/2011 0:00</td>\n",
       "      <td>1/6/2012 11:00</td>\n",
       "      <td>2</td>\n",
       "      <td>0</td>\n",
       "      <td>0</td>\n",
       "      <td>2</td>\n",
       "      <td>9</td>\n",
       "      <td>RentTheSun</td>\n",
       "      <td>1000.00</td>\n",
       "      <td>0.0</td>\n",
       "      <td>1000.00</td>\n",
       "      <td>111.111111</td>\n",
       "      <td>NaN</td>\n",
       "      <td>0.0</td>\n",
       "    </tr>\n",
       "    <tr>\n",
       "      <th>1</th>\n",
       "      <td>2883</td>\n",
       "      <td>48887</td>\n",
       "      <td>12/1/2012</td>\n",
       "      <td>2/4/2012 0:00</td>\n",
       "      <td>2/8/2012 11:00</td>\n",
       "      <td>4</td>\n",
       "      <td>0</td>\n",
       "      <td>1</td>\n",
       "      <td>5</td>\n",
       "      <td>3</td>\n",
       "      <td>RentTheSun</td>\n",
       "      <td>576.21</td>\n",
       "      <td>0.0</td>\n",
       "      <td>576.21</td>\n",
       "      <td>144.052500</td>\n",
       "      <td>NaN</td>\n",
       "      <td>0.0</td>\n",
       "    </tr>\n",
       "    <tr>\n",
       "      <th>2</th>\n",
       "      <td>2883</td>\n",
       "      <td>49091</td>\n",
       "      <td>23/02/2012</td>\n",
       "      <td>2/25/2012 0:00</td>\n",
       "      <td>3/3/2012 11:00</td>\n",
       "      <td>3</td>\n",
       "      <td>0</td>\n",
       "      <td>0</td>\n",
       "      <td>3</td>\n",
       "      <td>7</td>\n",
       "      <td>RentTheSun</td>\n",
       "      <td>1522.86</td>\n",
       "      <td>0.0</td>\n",
       "      <td>1522.86</td>\n",
       "      <td>217.551429</td>\n",
       "      <td>NaN</td>\n",
       "      <td>0.0</td>\n",
       "    </tr>\n",
       "    <tr>\n",
       "      <th>3</th>\n",
       "      <td>2883</td>\n",
       "      <td>48994</td>\n",
       "      <td>2/4/2012 7:14</td>\n",
       "      <td>3/9/2012 0:00</td>\n",
       "      <td>3/12/2012 11:00</td>\n",
       "      <td>5</td>\n",
       "      <td>0</td>\n",
       "      <td>0</td>\n",
       "      <td>5</td>\n",
       "      <td>3</td>\n",
       "      <td>RentTheSun</td>\n",
       "      <td>623.73</td>\n",
       "      <td>0.0</td>\n",
       "      <td>623.73</td>\n",
       "      <td>207.910000</td>\n",
       "      <td>NaN</td>\n",
       "      <td>0.0</td>\n",
       "    </tr>\n",
       "    <tr>\n",
       "      <th>4</th>\n",
       "      <td>2883</td>\n",
       "      <td>49002</td>\n",
       "      <td>2/5/2012 20:46</td>\n",
       "      <td>3/22/2012 0:00</td>\n",
       "      <td>3/28/2012 11:00</td>\n",
       "      <td>5</td>\n",
       "      <td>0</td>\n",
       "      <td>0</td>\n",
       "      <td>5</td>\n",
       "      <td>6</td>\n",
       "      <td>RentTheSun</td>\n",
       "      <td>1245.43</td>\n",
       "      <td>0.0</td>\n",
       "      <td>1245.43</td>\n",
       "      <td>207.571667</td>\n",
       "      <td>NaN</td>\n",
       "      <td>0.0</td>\n",
       "    </tr>\n",
       "  </tbody>\n",
       "</table>\n",
       "</div>"
      ],
      "text/plain": [
       "   PropertyId  Property_BookingId BookingCreatedDate      ArrivalDate  \\\n",
       "0        2883               48819   12/22/2011 18:18  12/28/2011 0:00   \n",
       "1        2883               48887          12/1/2012    2/4/2012 0:00   \n",
       "2        2883               49091         23/02/2012   2/25/2012 0:00   \n",
       "3        2883               48994      2/4/2012 7:14    3/9/2012 0:00   \n",
       "4        2883               49002     2/5/2012 20:46   3/22/2012 0:00   \n",
       "\n",
       "     DepartureDate  Adults  Children  Infants  Persons  NumNights     Channel  \\\n",
       "0   1/6/2012 11:00       2         0        0        2          9  RentTheSun   \n",
       "1   2/8/2012 11:00       4         0        1        5          3  RentTheSun   \n",
       "2   3/3/2012 11:00       3         0        0        3          7  RentTheSun   \n",
       "3  3/12/2012 11:00       5         0        0        5          3  RentTheSun   \n",
       "4  3/28/2012 11:00       5         0        0        5          6  RentTheSun   \n",
       "\n",
       "   RoomRate  CleaningFee  Revenue         ADR  TouristTax  TotalPaid  \n",
       "0   1000.00          0.0  1000.00  111.111111         NaN        0.0  \n",
       "1    576.21          0.0   576.21  144.052500         NaN        0.0  \n",
       "2   1522.86          0.0  1522.86  217.551429         NaN        0.0  \n",
       "3    623.73          0.0   623.73  207.910000         NaN        0.0  \n",
       "4   1245.43          0.0  1245.43  207.571667         NaN        0.0  "
      ]
     },
     "execution_count": 5,
     "metadata": {},
     "output_type": "execute_result"
    }
   ],
   "source": [
    "booking.head()"
   ]
  },
  {
   "cell_type": "code",
   "execution_count": 6,
   "metadata": {},
   "outputs": [
    {
     "data": {
      "text/html": [
       "<div>\n",
       "<style scoped>\n",
       "    .dataframe tbody tr th:only-of-type {\n",
       "        vertical-align: middle;\n",
       "    }\n",
       "\n",
       "    .dataframe tbody tr th {\n",
       "        vertical-align: top;\n",
       "    }\n",
       "\n",
       "    .dataframe thead th {\n",
       "        text-align: right;\n",
       "    }\n",
       "</style>\n",
       "<table border=\"1\" class=\"dataframe\">\n",
       "  <thead>\n",
       "    <tr style=\"text-align: right;\">\n",
       "      <th></th>\n",
       "      <th>PropertyId</th>\n",
       "      <th>RealProperty</th>\n",
       "      <th>Capacity</th>\n",
       "      <th>Square</th>\n",
       "      <th>PropertyType</th>\n",
       "      <th>NumBedrooms</th>\n",
       "      <th>ReadyDate</th>\n",
       "    </tr>\n",
       "  </thead>\n",
       "  <tbody>\n",
       "    <tr>\n",
       "      <th>0</th>\n",
       "      <td>2883</td>\n",
       "      <td>Yes</td>\n",
       "      <td>8</td>\n",
       "      <td>110</td>\n",
       "      <td>Apartment</td>\n",
       "      <td>3</td>\n",
       "      <td>12/28/2011 0:00</td>\n",
       "    </tr>\n",
       "    <tr>\n",
       "      <th>1</th>\n",
       "      <td>3963</td>\n",
       "      <td>Yes</td>\n",
       "      <td>4</td>\n",
       "      <td>50</td>\n",
       "      <td>Apartment</td>\n",
       "      <td>1</td>\n",
       "      <td>6/13/2013 0:00</td>\n",
       "    </tr>\n",
       "    <tr>\n",
       "      <th>2</th>\n",
       "      <td>3964</td>\n",
       "      <td>Yes</td>\n",
       "      <td>4</td>\n",
       "      <td>45</td>\n",
       "      <td>Apa</td>\n",
       "      <td>0</td>\n",
       "      <td>6/15/2013 0:00</td>\n",
       "    </tr>\n",
       "    <tr>\n",
       "      <th>3</th>\n",
       "      <td>4138</td>\n",
       "      <td>Yes</td>\n",
       "      <td>5</td>\n",
       "      <td>60</td>\n",
       "      <td>Apartment</td>\n",
       "      <td>2</td>\n",
       "      <td>8/7/2013 0:00</td>\n",
       "    </tr>\n",
       "    <tr>\n",
       "      <th>4</th>\n",
       "      <td>4181</td>\n",
       "      <td>Yes</td>\n",
       "      <td>4</td>\n",
       "      <td>45</td>\n",
       "      <td>Apa</td>\n",
       "      <td>0</td>\n",
       "      <td>9/7/2013 0:00</td>\n",
       "    </tr>\n",
       "  </tbody>\n",
       "</table>\n",
       "</div>"
      ],
      "text/plain": [
       "   PropertyId RealProperty  Capacity  Square PropertyType  NumBedrooms  \\\n",
       "0        2883          Yes         8     110    Apartment            3   \n",
       "1        3963          Yes         4      50    Apartment            1   \n",
       "2        3964          Yes         4      45          Apa            0   \n",
       "3        4138          Yes         5      60    Apartment            2   \n",
       "4        4181          Yes         4      45          Apa            0   \n",
       "\n",
       "         ReadyDate  \n",
       "0  12/28/2011 0:00  \n",
       "1   6/13/2013 0:00  \n",
       "2   6/15/2013 0:00  \n",
       "3    8/7/2013 0:00  \n",
       "4    9/7/2013 0:00  "
      ]
     },
     "execution_count": 6,
     "metadata": {},
     "output_type": "execute_result"
    }
   ],
   "source": [
    "property.head()"
   ]
  },
  {
   "cell_type": "code",
   "execution_count": 7,
   "metadata": {},
   "outputs": [
    {
     "name": "stdout",
     "output_type": "stream",
     "text": [
      "<class 'pandas.core.frame.DataFrame'>\n",
      "RangeIndex: 79595 entries, 0 to 79594\n",
      "Data columns (total 17 columns):\n",
      " #   Column              Non-Null Count  Dtype  \n",
      "---  ------              --------------  -----  \n",
      " 0   PropertyId          79595 non-null  int64  \n",
      " 1   Property_BookingId  79595 non-null  int64  \n",
      " 2   BookingCreatedDate  79595 non-null  object \n",
      " 3   ArrivalDate         79595 non-null  object \n",
      " 4   DepartureDate       79595 non-null  object \n",
      " 5   Adults              79595 non-null  int64  \n",
      " 6   Children            79595 non-null  int64  \n",
      " 7   Infants             79595 non-null  int64  \n",
      " 8   Persons             79595 non-null  int64  \n",
      " 9   NumNights           79595 non-null  int64  \n",
      " 10  Channel             79162 non-null  object \n",
      " 11  RoomRate            71635 non-null  float64\n",
      " 12  CleaningFee         79595 non-null  float64\n",
      " 13  Revenue             71635 non-null  float64\n",
      " 14  ADR                 79121 non-null  float64\n",
      " 15  TouristTax          79420 non-null  float64\n",
      " 16  TotalPaid           79595 non-null  float64\n",
      "dtypes: float64(6), int64(7), object(4)\n",
      "memory usage: 10.3+ MB\n"
     ]
    }
   ],
   "source": [
    "booking.info()"
   ]
  },
  {
   "cell_type": "markdown",
   "metadata": {},
   "source": [
    "Podemos ver que el dataset booking contiene 79595 filas de datos. Tenemos las columnas 'Channel', 'RoomRate', 'Revenue', 'ADR' y 'TouristTax' con datos vacíos o nulos."
   ]
  },
  {
   "cell_type": "code",
   "execution_count": 8,
   "metadata": {},
   "outputs": [
    {
     "name": "stdout",
     "output_type": "stream",
     "text": [
      "<class 'pandas.core.frame.DataFrame'>\n",
      "RangeIndex: 344 entries, 0 to 343\n",
      "Data columns (total 7 columns):\n",
      " #   Column        Non-Null Count  Dtype \n",
      "---  ------        --------------  ----- \n",
      " 0   PropertyId    344 non-null    int64 \n",
      " 1   RealProperty  344 non-null    object\n",
      " 2   Capacity      344 non-null    int64 \n",
      " 3   Square        344 non-null    int64 \n",
      " 4   PropertyType  310 non-null    object\n",
      " 5   NumBedrooms   344 non-null    int64 \n",
      " 6   ReadyDate     344 non-null    object\n",
      "dtypes: int64(4), object(3)\n",
      "memory usage: 18.9+ KB\n"
     ]
    }
   ],
   "source": [
    "property.info()"
   ]
  },
  {
   "cell_type": "markdown",
   "metadata": {},
   "source": [
    "Podemos ver que el dataset property contiene 344 filas de datos. No tenemos columnas con datos vacios o nulos."
   ]
  },
  {
   "cell_type": "code",
   "execution_count": 9,
   "metadata": {},
   "outputs": [
    {
     "data": {
      "text/plain": [
       "np.int64(0)"
      ]
     },
     "execution_count": 9,
     "metadata": {},
     "output_type": "execute_result"
    }
   ],
   "source": [
    "#Revisamos si 'booking' tiene datos duplicados\n",
    "booking.duplicated().sum()"
   ]
  },
  {
   "cell_type": "code",
   "execution_count": 10,
   "metadata": {},
   "outputs": [
    {
     "data": {
      "text/plain": [
       "np.int64(0)"
      ]
     },
     "execution_count": 10,
     "metadata": {},
     "output_type": "execute_result"
    }
   ],
   "source": [
    "#Revisamos si 'property' tiene datos duplicados\n",
    "property.duplicated().sum()"
   ]
  },
  {
   "cell_type": "markdown",
   "metadata": {},
   "source": [
    "2. Procederemos a la limpieza y extración de los datos del dataset Booking "
   ]
  },
  {
   "cell_type": "code",
   "execution_count": 11,
   "metadata": {},
   "outputs": [
    {
     "name": "stdout",
     "output_type": "stream",
     "text": [
      "PropertyId               0\n",
      "Property_BookingId       0\n",
      "BookingCreatedDate       0\n",
      "ArrivalDate              0\n",
      "DepartureDate            0\n",
      "Adults                   0\n",
      "Children                 0\n",
      "Infants                  0\n",
      "Persons                  0\n",
      "NumNights                0\n",
      "Channel                433\n",
      "RoomRate              7960\n",
      "CleaningFee              0\n",
      "Revenue               7960\n",
      "ADR                    474\n",
      "TouristTax             175\n",
      "TotalPaid                0\n",
      "dtype: int64\n"
     ]
    }
   ],
   "source": [
    "#Cálculo de valores ausentes\n",
    "print(booking.isna().sum())"
   ]
  },
  {
   "cell_type": "code",
   "execution_count": 12,
   "metadata": {},
   "outputs": [
    {
     "name": "stdout",
     "output_type": "stream",
     "text": [
      "PropertyId            0\n",
      "Property_BookingId    0\n",
      "BookingCreatedDate    0\n",
      "ArrivalDate           0\n",
      "DepartureDate         0\n",
      "Adults                0\n",
      "Children              0\n",
      "Infants               0\n",
      "Persons               0\n",
      "NumNights             0\n",
      "Channel               0\n",
      "RoomRate              0\n",
      "CleaningFee           0\n",
      "Revenue               0\n",
      "ADR                   0\n",
      "TouristTax            0\n",
      "TotalPaid             0\n",
      "dtype: int64\n"
     ]
    }
   ],
   "source": [
    "#Eliminamos todas las filas que contengan valores ausentes\n",
    "booking.dropna(inplace=True)\n",
    "print(booking.isna().sum())"
   ]
  },
  {
   "cell_type": "markdown",
   "metadata": {},
   "source": [
    "Ahora el dataset booking no tiene columnas con valores ausentes."
   ]
  },
  {
   "cell_type": "markdown",
   "metadata": {},
   "source": [
    "2.1 Procederemos a la conversión de tipo de datos en las columnas las cuales sea necesario. Comenzamos con el dataset booking."
   ]
  },
  {
   "cell_type": "code",
   "execution_count": 13,
   "metadata": {},
   "outputs": [
    {
     "name": "stderr",
     "output_type": "stream",
     "text": [
      "C:\\Users\\LENOVO\\AppData\\Local\\Temp\\ipykernel_13988\\2381731661.py:2: UserWarning: Parsing dates in %m/%d/%Y %H:%M format when dayfirst=True was specified. Pass `dayfirst=False` or specify a format to silence this warning.\n",
      "  booking['BookingCreatedDate'] = pd.to_datetime(booking['BookingCreatedDate'], errors='coerce', dayfirst=True)\n",
      "C:\\Users\\LENOVO\\AppData\\Local\\Temp\\ipykernel_13988\\2381731661.py:3: UserWarning: Parsing dates in %m/%d/%Y %H:%M format when dayfirst=True was specified. Pass `dayfirst=False` or specify a format to silence this warning.\n",
      "  booking['ArrivalDate'] = pd.to_datetime(booking['ArrivalDate'], errors='coerce', dayfirst=True)\n",
      "C:\\Users\\LENOVO\\AppData\\Local\\Temp\\ipykernel_13988\\2381731661.py:4: UserWarning: Parsing dates in %m/%d/%Y %H:%M format when dayfirst=True was specified. Pass `dayfirst=False` or specify a format to silence this warning.\n",
      "  booking['DepartureDate'] = pd.to_datetime(booking['DepartureDate'], errors='coerce', dayfirst=True)\n"
     ]
    }
   ],
   "source": [
    "#Convertimos las columnas 'BookingCreatedDate', 'ArrivalDate' y 'DepartureDate' a tipo datetime \n",
    "booking['BookingCreatedDate'] = pd.to_datetime(booking['BookingCreatedDate'], errors='coerce', dayfirst=True)\n",
    "booking['ArrivalDate'] = pd.to_datetime(booking['ArrivalDate'], errors='coerce', dayfirst=True)\n",
    "booking['DepartureDate'] = pd.to_datetime(booking['DepartureDate'], errors='coerce', dayfirst=True)"
   ]
  },
  {
   "cell_type": "markdown",
   "metadata": {},
   "source": [
    "Ahora procedemos con el dataset property."
   ]
  },
  {
   "cell_type": "code",
   "execution_count": 14,
   "metadata": {},
   "outputs": [
    {
     "name": "stderr",
     "output_type": "stream",
     "text": [
      "C:\\Users\\LENOVO\\AppData\\Local\\Temp\\ipykernel_13988\\3122816088.py:2: UserWarning: Parsing dates in %m/%d/%Y %H:%M format when dayfirst=True was specified. Pass `dayfirst=False` or specify a format to silence this warning.\n",
      "  property['ReadyDate'] = pd.to_datetime(property['ReadyDate'], errors='coerce', dayfirst=True)\n"
     ]
    }
   ],
   "source": [
    "#Convertimos la columnas'ReadyDate'a tipo datetime \n",
    "property['ReadyDate'] = pd.to_datetime(property['ReadyDate'], errors='coerce', dayfirst=True)"
   ]
  },
  {
   "cell_type": "markdown",
   "metadata": {},
   "source": [
    "3. Creamos los datasets con un formato parquet para poder importarlos dentro de Google BigQuery."
   ]
  },
  {
   "cell_type": "code",
   "execution_count": 15,
   "metadata": {},
   "outputs": [
    {
     "name": "stdout",
     "output_type": "stream",
     "text": [
      "Requirement already satisfied: fastparquet in c:\\users\\lenovo\\desktop\\project\\airbnbvenv\\lib\\site-packages (2024.5.0)\n",
      "Requirement already satisfied: pandas>=1.5.0 in c:\\users\\lenovo\\desktop\\project\\airbnbvenv\\lib\\site-packages (from fastparquet) (2.2.3)\n",
      "Requirement already satisfied: numpy in c:\\users\\lenovo\\desktop\\project\\airbnbvenv\\lib\\site-packages (from fastparquet) (2.1.2)\n",
      "Requirement already satisfied: cramjam>=2.3 in c:\\users\\lenovo\\desktop\\project\\airbnbvenv\\lib\\site-packages (from fastparquet) (2.8.4)\n",
      "Requirement already satisfied: fsspec in c:\\users\\lenovo\\desktop\\project\\airbnbvenv\\lib\\site-packages (from fastparquet) (2024.9.0)\n",
      "Requirement already satisfied: packaging in c:\\users\\lenovo\\desktop\\project\\airbnbvenv\\lib\\site-packages (from fastparquet) (24.1)\n",
      "Requirement already satisfied: python-dateutil>=2.8.2 in c:\\users\\lenovo\\desktop\\project\\airbnbvenv\\lib\\site-packages (from pandas>=1.5.0->fastparquet) (2.9.0.post0)\n",
      "Requirement already satisfied: pytz>=2020.1 in c:\\users\\lenovo\\desktop\\project\\airbnbvenv\\lib\\site-packages (from pandas>=1.5.0->fastparquet) (2024.2)\n",
      "Requirement already satisfied: tzdata>=2022.7 in c:\\users\\lenovo\\desktop\\project\\airbnbvenv\\lib\\site-packages (from pandas>=1.5.0->fastparquet) (2024.2)\n",
      "Requirement already satisfied: six>=1.5 in c:\\users\\lenovo\\desktop\\project\\airbnbvenv\\lib\\site-packages (from python-dateutil>=2.8.2->pandas>=1.5.0->fastparquet) (1.16.0)\n",
      "Note: you may need to restart the kernel to use updated packages.\n"
     ]
    },
    {
     "name": "stderr",
     "output_type": "stream",
     "text": [
      "\n",
      "[notice] A new release of pip is available: 24.0 -> 24.2\n",
      "[notice] To update, run: python.exe -m pip install --upgrade pip\n"
     ]
    }
   ],
   "source": [
    "%pip install fastparquet"
   ]
  },
  {
   "cell_type": "code",
   "execution_count": 16,
   "metadata": {},
   "outputs": [],
   "source": [
    "#Creación de files en formato parquet\n",
    "property.to_parquet(\"property.parquet\", compression='brotli')\n",
    "booking.to_parquet(\"booking.parquet\", compression='brotli')"
   ]
  },
  {
   "cell_type": "code",
   "execution_count": 17,
   "metadata": {},
   "outputs": [
    {
     "data": {
      "text/plain": [
       "PropertyId               int64\n",
       "RealProperty            object\n",
       "Capacity                 int64\n",
       "Square                   int64\n",
       "PropertyType            object\n",
       "NumBedrooms              int64\n",
       "ReadyDate       datetime64[ns]\n",
       "dtype: object"
      ]
     },
     "execution_count": 17,
     "metadata": {},
     "output_type": "execute_result"
    }
   ],
   "source": [
    "pd.read_parquet(\"property.parquet\").dtypes"
   ]
  },
  {
   "cell_type": "code",
   "execution_count": 18,
   "metadata": {},
   "outputs": [],
   "source": [
    "pd.read_csv(\"dataset_airbnb-scraper-Barcelona.csv\").to_parquet(\"dataset_airbnb-scraper-Barcelona.parquet\", compression='brotli')"
   ]
  }
 ],
 "metadata": {
  "kernelspec": {
   "display_name": "airbnbvenv",
   "language": "python",
   "name": "python3"
  },
  "language_info": {
   "codemirror_mode": {
    "name": "ipython",
    "version": 3
   },
   "file_extension": ".py",
   "mimetype": "text/x-python",
   "name": "python",
   "nbconvert_exporter": "python",
   "pygments_lexer": "ipython3",
   "version": "3.12.2"
  }
 },
 "nbformat": 4,
 "nbformat_minor": 2
}
